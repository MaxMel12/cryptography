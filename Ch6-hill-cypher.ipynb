{
 "cells": [
  {
   "cell_type": "code",
   "execution_count": 75,
   "id": "c4dc28eb",
   "metadata": {},
   "outputs": [],
   "source": [
    "from string import ascii_uppercase as abc_upper\n",
    "from string import ascii_lowercase as abc_lower\n",
    "import math\n",
    "\n",
    "def hill_encrypt(msg,key):\n",
    "    msg = msg.replace(' ','').lower()\n",
    "    ciphertext = \"\"\n",
    "    \n",
    "    key_dim = int(math.sqrt(len(key)))\n",
    "    key_mat = [[abc_upper.index(key[j]) for j in range(i*key_dim,i*key_dim+key_dim)] for i in range(key_dim)]\n",
    "    \n",
    "    for i in range(0,len(msg),key_dim):\n",
    "        block = msg[i:i+key_dim]\n",
    "        block_mat = []\n",
    "        for char in block:\n",
    "            block_mat.append([abc_lower.index(char)])\n",
    "        encrypted = multiply_matrices(key_mat,block_mat)\n",
    "        for row in encrypted:\n",
    "            ciphertext+=abc_upper[row[0]]\n",
    "    return add_spaces(ciphertext)\n",
    "            "
   ]
  },
  {
   "cell_type": "code",
   "execution_count": 76,
   "id": "8e282f54",
   "metadata": {},
   "outputs": [],
   "source": [
    "def hill_decrypt(ciphertext,key):\n",
    "    cipher = ciphertext.replace(' ','')\n",
    "    msg = \"\"\n",
    "    \n",
    "    key_dim = int(math.sqrt(len(key)))\n",
    "    key_mat = gaussian_elimination([[abc_upper.index(key[j]) for j in range(i*key_dim,i*key_dim+key_dim)] for i in range(key_dim)],\n",
    "                                   gen_identity_matrix(key_dim)\n",
    "                                  )\n",
    "    \n",
    "    for i in range(0,len(cipher),key_dim):\n",
    "        block = cipher[i:i+key_dim]\n",
    "        block_mat = []\n",
    "        for char in block:\n",
    "            block_mat.append([abc_upper.index(char)])\n",
    "        decrypted = multiply_matrices(key_mat,block_mat)\n",
    "        for row in decrypted:\n",
    "            msg+=abc_lower[row[0]]\n",
    "    return msg"
   ]
  },
  {
   "cell_type": "code",
   "execution_count": 77,
   "id": "a2457d24",
   "metadata": {},
   "outputs": [],
   "source": [
    "#multiplies 2 matrices mod 26\n",
    "def multiply_matrices(a,b):\n",
    "    if len(a[0])!=len(b):\n",
    "        raise Exception(\"# of cols in A must match # of rows in B\",len(a[0]),len(b))\n",
    "        \n",
    "    new_mat = [[0]*len(b[0]) for i in range(len(a))]\n",
    "    for i in range(len(a)):\n",
    "        for j in range(len(b[0])):\n",
    "            new_mat[i][j]=sum([a[i][k]*b[k][j] for k in range(len(a))])%26\n",
    "    return new_mat       "
   ]
  },
  {
   "cell_type": "code",
   "execution_count": 97,
   "id": "050b01f3",
   "metadata": {},
   "outputs": [],
   "source": [
    "#https://en.wikipedia.org/wiki/Gaussian_elimination\n",
    "#https://online.stat.psu.edu/statprogram/reviews/matrix-algebra/gauss-jordan-elimination\n",
    "\n",
    "#inverts matrix by using row reduction\n",
    "#[a1 a2 a3 1 0 0]    [1][0][0][a1'][a2'][a3']\n",
    "#[b1 b2 b3 0 1 0] -->[0][1][0][b1'][b2'][b3'] \n",
    "#[c1 c2 c3 0 0 1]    [0][0][1][c1'][c2'][b3']\n",
    "#where ' means that the element is in the matrix's inverse\n",
    "\n",
    "#1: set pivot row, r, and column, c, to 0\n",
    "#2: swap pivot row with the row of the highest absolute value mod 26 in that column. Must also be relatively prime to modulus\n",
    "#3: multiply the pivot row by a constant k s.t k*m[r][c] = 1 (mod 26)\n",
    "#4: loop over all rows i below pivot, adding a multiple k of the pivot row s.t m[i][c]-m[r][c]*k = 0 (mod 26)\n",
    "#5: loop over all remaining 0s starting from top left\n",
    "\n",
    "#3 elementary functions are defined at the bottom\n",
    "\n",
    "def gaussian_elimination(m,augmentation=[]):\n",
    "    d=0\n",
    "    if len(augmentation)!=0:\n",
    "        for i in range(len(m)):\n",
    "            m[i]+=augmentation[i]\n",
    "    \n",
    "    r=c=0\n",
    "    while r<len(m) and c<(len(m[0])-len(augmentation[0])):\n",
    "        \n",
    "        #pivot is max index that is relatively prime to 26\n",
    "        pivot=get_max_idx(m,r,c)\n",
    "        \n",
    "        #this shouldn't ever happen but I will leave it for now\n",
    "        if m[pivot][c]==0:\n",
    "            c+=1\n",
    "        else:\n",
    "            #print(\"pivot\",pivot)\n",
    "            print_matrix(m)\n",
    "            m=swap_rows(m,r,pivot)\n",
    "            \n",
    "            #actually shocked that this works\n",
    "            #if none of the elements are relatively prime, subtract row below it, then repeat the process. \n",
    "            #This probably doesn't always work\n",
    "            gcd,p,q=gcde(m[r][c],26)\n",
    "            if gcd!=1 and r+1<len(m):\n",
    "                s=get_max_idx(m,r+1,c)\n",
    "                m=add_scalar(m,r,s,-1)\n",
    "                gcd,p,q=gcde(m[r][c],26)   \n",
    "            m=mul_row(m,r,q)\n",
    "            \n",
    "            #change rows below to 0\n",
    "            for h in range(r+1,len(m)):\n",
    "                if m[h][c]!=0:\n",
    "                    m=add_scalar(m,h,r,-m[h][c])\n",
    "        r+=1\n",
    "        c+=1\n",
    "    \n",
    "    #go through the numbers to the right of the diagonal and change them all to zeros, by subtracting the row that corresponds with the column\n",
    "    #for example, to turn m[i][j] into 0, subtract m[j], because that row contains a 1 at index j\n",
    "    #so you can just subtract m[i]-m[i]*m[j]. ALl cols !=j have 0s, so only element i is being affected in the scaled row\n",
    "    for r in range(len(m)):\n",
    "        for c in range(r+1,len(m[0])-len(augmentation[0])):\n",
    "            if m[r][c]!=0:\n",
    "                m=add_scalar(m,r,c,-m[r][c])\n",
    "        \n",
    "    return [r[len(augmentation):] for r in m]\n",
    "\n",
    "\n",
    "def add_scalar(m,row,scalar,k):\n",
    "    for i in range(len(m[row])):\n",
    "        m[row][i]=(m[row][i]+m[scalar][i]*k)%26\n",
    "    return m\n",
    "    \n",
    "def mul_row(m,row,k):\n",
    "    for i in range(len(m[row])):\n",
    "        m[row][i]=(m[row][i]*k)%26\n",
    "    return m\n",
    "    \n",
    "def swap_rows(m,r1,r2):\n",
    "    m[r1],m[r2]=m[r2],m[r1]\n",
    "    return m\n",
    "                           \n",
    "#matrix=[[2,-1,0],[-1,2,-1],[0,-1,2]]\n",
    "#mat=[[0,1,2],[3,4,6],[8,1,17]]\n",
    "#mat2=[[19,0,13],[6,4,17],[8,13,4]]\n",
    "\n",
    "#a=invert_matrix(mat2)\n",
    "#print_matrix(a)"
   ]
  },
  {
   "cell_type": "code",
   "execution_count": 79,
   "id": "ea7f33e2",
   "metadata": {},
   "outputs": [],
   "source": [
    "#matrix=[[2,-1,0,1,0,0],[-1,2,-1,0,1,0],[0,-1,2,0,0,1]]\n",
    "matrix=[[19,0,13,1,0,0],[6,4,7,0,1,0],[8,13,4,0,0,1]]\n",
    "#funcs=[add_scalar,mul_row,swap_rows]\n",
    "def manual_matrix_ops(matrix,augmentation):\n",
    "    if len(augmentation)!=0:\n",
    "        for i in range(len(matrix)):\n",
    "            matrix[i]+=augmentation[i]\n",
    "    while True:\n",
    "        print_matrix(matrix)\n",
    "        print()\n",
    "        print(\"Choose operation:\")\n",
    "        print(\"0-add scalar\")\n",
    "        print(\"1-mul_row\")\n",
    "        print(\"2-swap_rows\")\n",
    "        op=int(input())\n",
    "        if op==0:\n",
    "            r=int(input(\"Input row to add to:\"))\n",
    "            s=int(input(\"Input row to add\"))\n",
    "            k=eval(input(\"Input multiple of s to add\"))\n",
    "            matrix=add_scalar(matrix,r,s,k)\n",
    "        elif op==1:\n",
    "            r=int(input(\"Input row to scale\"))\n",
    "            k=eval(input(\"Input scale factor\"))\n",
    "            matrix=mul_row(matrix,r,k)\n",
    "        elif op==2:\n",
    "            r1=int(input(\"Input first row to swap\"))\n",
    "            r2=int(input(\"Input second row to swap\"))\n",
    "            matrix=swap_rows(matrix,r1,r2)"
   ]
  },
  {
   "cell_type": "code",
   "execution_count": 80,
   "id": "f5bf95f1",
   "metadata": {},
   "outputs": [],
   "source": [
    "#gets the largest value, relatively prime to 26 (if there is one), in the specified column of the matrix, below the pivot row\n",
    "def get_max_idx(m,r,c):\n",
    "    max_pivot=0\n",
    "    max_prime_pivot=0\n",
    "    max_idx=r\n",
    "    max_prime_idx=r\n",
    "    for i in range(r,len(m)):\n",
    "        g=gcde(m[i][c],26)[0]\n",
    "        if g==1 and m[i][c]%26>max_prime_pivot:\n",
    "            max_prime_pivot=m[i][c]%26\n",
    "            max_prime_idx=i\n",
    "        if m[i][c]%26>max_pivot:\n",
    "            max_pivot=m[i][c]%26\n",
    "            max_idx=i\n",
    "    if max_prime_pivot==0:\n",
    "        return max_idx\n",
    "    else:\n",
    "        return max_prime_idx"
   ]
  },
  {
   "cell_type": "code",
   "execution_count": 81,
   "id": "5534582e",
   "metadata": {},
   "outputs": [],
   "source": [
    "#generates nxn identity matrix\n",
    "def gen_identity_matrix(n):\n",
    "    mat = [[0]*n for i in range(n)]\n",
    "    for i in range(n):\n",
    "        mat[i][i]=1\n",
    "    return mat     "
   ]
  },
  {
   "cell_type": "code",
   "execution_count": 82,
   "id": "abffb7ef",
   "metadata": {},
   "outputs": [],
   "source": [
    "#prints matrix nicely\n",
    "def print_matrix(m):\n",
    "    print()\n",
    "    for i in m:\n",
    "        out=\"|\"\n",
    "        for j in i:\n",
    "            #j=int(j)\n",
    "            if j>=0 and j<10:\n",
    "                out+=\" \"\n",
    "            out+=\" \"+str(j)\n",
    "        out+=\" |\"\n",
    "        print(out)"
   ]
  },
  {
   "cell_type": "code",
   "execution_count": 104,
   "id": "f51061c5",
   "metadata": {},
   "outputs": [],
   "source": [
    "#probably won't need this but\n",
    "def get_determinant(m):\n",
    "    return None"
   ]
  },
  {
   "cell_type": "code",
   "execution_count": 84,
   "id": "90e32400",
   "metadata": {},
   "outputs": [],
   "source": [
    "#add space every 5 places for ciphertext\n",
    "def add_spaces(ciphertext):\n",
    "    ciphertext=\" \".join([ciphertext[i:i+5] for i in range(0,len(ciphertext),5)])\n",
    "            \n",
    "    return ciphertext"
   ]
  },
  {
   "cell_type": "code",
   "execution_count": 539,
   "id": "b31554d7",
   "metadata": {},
   "outputs": [
    {
     "name": "stdout",
     "output_type": "stream",
     "text": [
      "[[15, 14, 17], [2, 20, 15], [8, 13, 4]]\n",
      "EYZUC KUOZW KMOCP YNANV SYQTW QOLMA IWULW YZIKJ DSYXI WFEVX AEGXQ ZKZKG MQPZL X\n"
     ]
    }
   ],
   "source": [
    "hill_encrypt(\"Why sometimes Ive believed as many as six impossible things before breakfastz\".lower(),\"PORCUPINE\")"
   ]
  },
  {
   "cell_type": "code",
   "execution_count": 564,
   "id": "198c6d06",
   "metadata": {},
   "outputs": [
    {
     "name": "stdout",
     "output_type": "stream",
     "text": [
      "\n",
      "|  15  14  17  1  0  0 |\n",
      "|  2  20  15  0  1  0 |\n",
      "|  8  13  4  0  0  1 |\n",
      "\n",
      "|  1  20  15  7  0  0 |\n",
      "|  0  6  11  12  1  0 |\n",
      "|  0  9  14  22  0  1 |\n",
      "\n",
      "|  1  20  15  7  0  0 |\n",
      "|  0  1  16  14  0  3 |\n",
      "|  0  0  19  6  1  8 |\n",
      "whysometimesivebelievedasmanyassiximpossiblethingsbeforebreakfastz\n"
     ]
    }
   ],
   "source": [
    "hill_decrypt(\"EYZUC KUOZW KMOCP YNANV SYQTW QOLMA IWULW YZIKJ DSYXI WFEVX AEGXQ ZKZKG MQPZL X\",\"PORCUPINE\")"
   ]
  },
  {
   "cell_type": "code",
   "execution_count": 85,
   "id": "29f06b5f",
   "metadata": {},
   "outputs": [],
   "source": [
    "def gcde(a,b):\n",
    "    if b==0:\n",
    "        return a,0,1\n",
    "    else:\n",
    "        #print('{a} = {b} * {q} + {r}'.format(a=a,b=b,q=math.floor(a/b),r=a%b))\n",
    "        g,m,n = gcde(b,a%b)\n",
    "        return g, n-(a//b)*m, m"
   ]
  },
  {
   "cell_type": "code",
   "execution_count": 690,
   "id": "52dabb90",
   "metadata": {},
   "outputs": [
    {
     "name": "stdout",
     "output_type": "stream",
     "text": [
      "\n",
      "|  0  1  2  1  0  0 |\n",
      "|  3  4  6  0  1  0 |\n",
      "|  8  1  17  0  0  1 |\n",
      "\n",
      "|  1  10  2  0  9  0 |\n",
      "|  0  1  2  1  0  0 |\n",
      "|  0  25  1  0  6  1 |\n",
      "\n",
      "|  1  10  2  0  9  0 |\n",
      "|  0  1  25  0  20  25 |\n",
      "|  0  0  3  1  6  1 |\n"
     ]
    },
    {
     "data": {
      "text/plain": [
       "[[22, 19, 6], [9, 22, 8], [9, 2, 9]]"
      ]
     },
     "execution_count": 690,
     "metadata": {},
     "output_type": "execute_result"
    }
   ],
   "source": [
    "mat=[[19,7,0,0],\n",
    "     [0,0,19,7],\n",
    "     [0,19,0,0],\n",
    "     [0,0,0,19]]\n",
    "aug=[[1],\n",
    "    [15],\n",
    "    [24],\n",
    "    [11]]\n",
    "mat2=[[0,1,2],[3,4,6],[8,1,17]]\n",
    "#gaussian_elimination(mat,aug)\n",
    "gaussian_elimination(mat2,gen_identity_matrix(3))\n",
    "#manual_matrix_ops(mat,aug)"
   ]
  },
  {
   "cell_type": "code",
   "execution_count": 101,
   "id": "fffdee30",
   "metadata": {},
   "outputs": [],
   "source": [
    "def get_key_from_blocks(c_blocks,pt_blocks):\n",
    "\n",
    "    abc=abc_lower\n",
    "\n",
    "    block_len=len(c_blocks[0])\n",
    "    mat=[[0 for j in range(block_len**2)] for i in range(block_len**2)]\n",
    "    aug=[[0] for i in range(block_len**2)]\n",
    "\n",
    "    for i in range(block_len):\n",
    "        for j in range(block_len):\n",
    "            for k in range(block_len):\n",
    "                mat[i*block_len+j][j*block_len+k]=abc.index(pt_blocks[i][k].lower())\n",
    "            l=abc.index(c_blocks[i][j].lower())\n",
    "            aug[block_len*i+j][0]=l\n",
    "    \n",
    "    #key=gaussian_elimination(mat,aug)\n",
    "    return mat,aug\n",
    "    #return ''.join([abc[ch[0]] for ch in key]).upper()"
   ]
  },
  {
   "cell_type": "code",
   "execution_count": 89,
   "id": "2b469c6a",
   "metadata": {},
   "outputs": [],
   "source": [
    "def crack_hill_cipher(cipher,c_blocks,pt_blocks):\n",
    "    key=get_key_from_blocks(c_blocks,pt_blocks)\n",
    "    msg=hill_decrypt(cipher,key)\n",
    "    return key,msg"
   ]
  },
  {
   "cell_type": "code",
   "execution_count": 90,
   "id": "2398effd",
   "metadata": {
    "scrolled": false
   },
   "outputs": [
    {
     "name": "stdout",
     "output_type": "stream",
     "text": [
      "('JACKFRUIT', 'beginatthebeginningandgoontillyoucometotheendthenstopq')\n"
     ]
    }
   ],
   "source": [
    "c_blocks=['RCS','XLB','CFC']\n",
    "pt_blocks=['nec','tar','ine']\n",
    "msg=\"VCKUP EDOPS JICJP NBZCV DDMKI IRQKP WAKQI QMJEX HSQAH XHSZX LCTC\"\n",
    "print(crack_hill_cipher(msg,c_blocks,pt_blocks))"
   ]
  },
  {
   "cell_type": "code",
   "execution_count": 91,
   "id": "93739095",
   "metadata": {},
   "outputs": [
    {
     "name": "stdout",
     "output_type": "stream",
     "text": [
      "Whysometimes Ive believed as many as six impossible things before breakfastz\n",
      "EYZUC KUOZW KMOCP YNANV SYQTW QOLMA IWULW YZIKJ DSYXI WFEVX AEGXQ ZKZKG MQPZL X\n"
     ]
    }
   ],
   "source": [
    "msg=\"\"\"Whysometimes Ive believed as many as six impossible things before breakfastz\"\"\"\n",
    "key=\"PORCUPINE\"\n",
    "print(msg)\n",
    "print(hill_encrypt(msg,key))"
   ]
  },
  {
   "cell_type": "code",
   "execution_count": 688,
   "id": "7d6b2270",
   "metadata": {},
   "outputs": [
    {
     "name": "stdout",
     "output_type": "stream",
     "text": [
      "[[15, 14, 17], [2, 20, 15], [8, 13, 4]]\n"
     ]
    }
   ],
   "source": [
    "key=\"PORCUPINE\"\n",
    "key_dim = int(math.sqrt(len(key)))\n",
    "key_mat = [[abc_upper.index(key[j]) for j in range(i*key_dim,i*key_dim+key_dim)] for i in range(key_dim)]\n",
    "print(key_mat)"
   ]
  },
  {
   "cell_type": "code",
   "execution_count": 92,
   "id": "3a7f6880",
   "metadata": {},
   "outputs": [],
   "source": [
    "abc=abc_lower\n",
    "def word_to_nums(word):\n",
    "    return [abc.index(ch) for ch in word.replace(' ','').lower()]"
   ]
  },
  {
   "cell_type": "code",
   "execution_count": 32,
   "id": "43488433",
   "metadata": {},
   "outputs": [
    {
     "name": "stdout",
     "output_type": "stream",
     "text": [
      "[17, 2, 18, 23, 11, 1, 2, 5, 2]\n",
      "[13, 4, 2, 19, 0, 17, 8, 13, 4]\n"
     ]
    }
   ],
   "source": [
    "print(word_to_nums('RCSXLBCFC'))\n",
    "print(word_to_nums('nectarine'))\n",
    "#c_blocks=['RCS','XLB','CFC']\n",
    "#pt_blocks=['nec','tar','ine']"
   ]
  },
  {
   "cell_type": "code",
   "execution_count": 67,
   "id": "7d18e042",
   "metadata": {},
   "outputs": [
    {
     "name": "stdout",
     "output_type": "stream",
     "text": [
      "\n",
      "| 13  4  2  0  0  0  0  0  0 |\n",
      "|  0  0  0 13  4  2  0  0  0 |\n",
      "|  0  0  0  0  0  0 13  4  2 |\n",
      "| 19  0 17  0  0  0  0  0  0 |\n",
      "|  0  0  0 19  0 17  0  0  0 |\n",
      "|  0  0  0  0  0  0 19  0 17 |\n",
      "|  8 13  4  0  0  0  0  0  0 |\n",
      "|  0  0  0  8 13  4  0  0  0 |\n",
      "|  0  0  0  0  0  0  8 13  4 |\n"
     ]
    }
   ],
   "source": [
    "c_blocks=['RCS','XLB','CFC']\n",
    "pt_blocks=['nec','tar','ine']\n",
    "m,aug=get_key_from_blocks(c_blocks,pt_blocks)\n",
    "print_matrix(m)"
   ]
  },
  {
   "cell_type": "code",
   "execution_count": 68,
   "id": "1762766e",
   "metadata": {},
   "outputs": [
    {
     "name": "stdout",
     "output_type": "stream",
     "text": [
      "\n",
      "| 19  0 17  0  0  0  0  0  0 |\n",
      "|  0  0  0 13  4  2  0  0  0 |\n",
      "|  0  0  0  0  0  0 13  4  2 |\n",
      "| 13  4  2  0  0  0  0  0  0 |\n",
      "|  0  0  0 19  0 17  0  0  0 |\n",
      "|  0  0  0  0  0  0 19  0 17 |\n",
      "|  8 13  4  0  0  0  0  0  0 |\n",
      "|  0  0  0  8 13  4  0  0  0 |\n",
      "|  0  0  0  0  0  0  8 13  4 |\n",
      "6\n"
     ]
    }
   ],
   "source": [
    "m=swap_rows(m,0,3)\n",
    "print_matrix(m)\n",
    "print(get_max_idx(m,1,1))"
   ]
  },
  {
   "cell_type": "code",
   "execution_count": 98,
   "id": "0bd1666d",
   "metadata": {
    "scrolled": false
   },
   "outputs": [
    {
     "name": "stdout",
     "output_type": "stream",
     "text": [
      "\n",
      "|  0 13  3  0  0  0  0  0  0  0 |\n",
      "|  0  0  0  0 13  3  0  0  0  7 |\n",
      "|  0  0  0  0  0  0  0 13  3 22 |\n",
      "|  1 20 19  0  0  0  0  0  0 25 |\n",
      "|  0  0  0  1 20 19  0  0  0 19 |\n",
      "|  0  0  0  0  0  0  1 20 19  5 |\n",
      "|  5 14 17  0  0  0  0  0  0 11 |\n",
      "|  0  0  0  5 14 17  0  0  0 17 |\n",
      "|  0  0  0  0  0  0  5 14 17 25 |\n",
      "\n",
      "|  1  8 19  0  0  0  0  0  0 23 |\n",
      "|  0  0  0  0 13  3  0  0  0  7 |\n",
      "|  0  0  0  0  0  0  0 13  3 22 |\n",
      "|  0 12  0  0  0  0  0  0  0  2 |\n",
      "|  0  0  0  1 20 19  0  0  0 19 |\n",
      "|  0  0  0  0  0  0  1 20 19  5 |\n",
      "|  0 13  3  0  0  0  0  0  0  0 |\n",
      "|  0  0  0  5 14 17  0  0  0 17 |\n",
      "|  0  0  0  0  0  0  5 14 17 25 |\n",
      "\n",
      "|  1  8 19  0  0  0  0  0  0 23 |\n",
      "|  0  1  3  0  0  0  0  0  0 24 |\n",
      "|  0  0  0  0  0  0  0 13  3 22 |\n",
      "|  0  0 16  0  0  0  0  0  0  0 |\n",
      "|  0  0  0  1 20 19  0  0  0 19 |\n",
      "|  0  0  0  0  0  0  1 20 19  5 |\n",
      "|  0  0  0  0 13  3  0  0  0  7 |\n",
      "|  0  0  0  5 14 17  0  0  0 17 |\n",
      "|  0  0  0  0  0  0  5 14 17 25 |\n",
      "\n",
      "|  1  8 19  0  0  0  0  0  0 23 |\n",
      "|  0  1  3  0  0  0  0  0  0 24 |\n",
      "|  0  0  2  0  0  0  0 13 11 20 |\n",
      "|  0  0  0  0  0  0  0 13  3 22 |\n",
      "|  0  0  0  1 20 19  0  0  0 19 |\n",
      "|  0  0  0  0  0  0  1 20 19  5 |\n",
      "|  0  0  0  0 13  3  0  0  0  7 |\n",
      "|  0  0  0  5 14 17  0  0  0 17 |\n",
      "|  0  0  0  0  0  0  5 14 17 25 |\n",
      "\n",
      "|  1  8 19  0  0  0  0  0  0 23 |\n",
      "|  0  1  3  0  0  0  0  0  0 24 |\n",
      "|  0  0  2  0  0  0  0 13 11 20 |\n",
      "|  0  0  0  1  8 19  0  0  0 19 |\n",
      "|  0  0  0  0 12  0  0  0  0  0 |\n",
      "|  0  0  0  0  0  0  1 20 19  5 |\n",
      "|  0  0  0  0 13  3  0  0  0  7 |\n",
      "|  0  0  0  0  0  0  0 13  3 22 |\n",
      "|  0  0  0  0  0  0  5 14 17 25 |\n",
      "\n",
      "|  1  8 19  0  0  0  0  0  0 23 |\n",
      "|  0  1  3  0  0  0  0  0  0 24 |\n",
      "|  0  0  2  0  0  0  0 13 11 20 |\n",
      "|  0  0  0  1  8 19  0  0  0 19 |\n",
      "|  0  0  0  0  1  3  0  0  0  7 |\n",
      "|  0  0  0  0  0  0  1 20 19  5 |\n",
      "|  0  0  0  0  0 16  0  0  0 20 |\n",
      "|  0  0  0  0  0  0  0 13  3 22 |\n",
      "|  0  0  0  0  0  0  5 14 17 25 |\n",
      "\n",
      "|  1  8 19  0  0  0  0  0  0 23 |\n",
      "|  0  1  3  0  0  0  0  0  0 24 |\n",
      "|  0  0  2  0  0  0  0 13 11 20 |\n",
      "|  0  0  0  1  8 19  0  0  0 19 |\n",
      "|  0  0  0  0  1  3  0  0  0  7 |\n",
      "|  0  0  0  0  0  2 21  4  9 23 |\n",
      "|  0  0  0  0  0  0  1 20 19  5 |\n",
      "|  0  0  0  0  0  0  0 13  3 22 |\n",
      "|  0  0  0  0  0  0  5 14 17 25 |\n",
      "\n",
      "|  1  8 19  0  0  0  0  0  0 23 |\n",
      "|  0  1  3  0  0  0  0  0  0 24 |\n",
      "|  0  0  2  0  0  0  0 13 11 20 |\n",
      "|  0  0  0  1  8 19  0  0  0 19 |\n",
      "|  0  0  0  0  1  3  0  0  0  7 |\n",
      "|  0  0  0  0  0  2 21  4  9 23 |\n",
      "|  0  0  0  0  0  0  1  8 19  5 |\n",
      "|  0  0  0  0  0  0  0 13  3 22 |\n",
      "|  0  0  0  0  0  0  0 12  0  0 |\n",
      "\n",
      "|  1  8 19  0  0  0  0  0  0 23 |\n",
      "|  0  1  3  0  0  0  0  0  0 24 |\n",
      "|  0  0  2  0  0  0  0 13 11 20 |\n",
      "|  0  0  0  1  8 19  0  0  0 19 |\n",
      "|  0  0  0  0  1  3  0  0  0  7 |\n",
      "|  0  0  0  0  0  2 21  4  9 23 |\n",
      "|  0  0  0  0  0  0  1  8 19  5 |\n",
      "|  0  0  0  0  0  0  0  1  3 22 |\n",
      "|  0  0  0  0  0  0  0  0 16 22 |\n",
      "\n",
      "| 17  6  6  1  0  0 |\n",
      "| 25  1  2  0  1  0 |\n",
      "| 15  4  6  0  0  1 |\n",
      "\n",
      "|  1 25 24  0 25  0 |\n",
      "|  0 23 14  1 17  0 |\n",
      "|  0 19 10  0 15  1 |\n",
      "\n",
      "|  1 25 24  0 25  0 |\n",
      "|  0  1  4 17  3  0 |\n",
      "|  0  0 12 15 10  1 |\n",
      "('RGGZBCPEG', 'lrimksjaskyyqfmgqawsilriyucjcygqawsilrimksjaskyyaaa')\n"
     ]
    }
   ],
   "source": [
    "c_blocks=['AHW','ZTF','LRZ']\n",
    "pt_blocks=['and','but','for']\n",
    "msg=\"ZWZII MBBSQ KMKNN QKYKM ZZWZU ALXPN QKYKM ZZWZI IMBBS QKMAA A\"\n",
    "print(crack_hill_cipher(msg,c_blocks,pt_blocks))"
   ]
  },
  {
   "cell_type": "code",
   "execution_count": 103,
   "id": "a5e18fe9",
   "metadata": {},
   "outputs": [
    {
     "name": "stdout",
     "output_type": "stream",
     "text": [
      "[0, 7, 22, 25, 19, 5, 11, 17, 25]\n",
      "[0, 13, 3, 1, 20, 19, 5, 14, 17]\n",
      "\n",
      "|  0 13  3  0  0  0  0  0  0 |\n",
      "|  0  0  0  0 13  3  0  0  0 |\n",
      "|  0  0  0  0  0  0  0 13  3 |\n",
      "|  1 20 19  0  0  0  0  0  0 |\n",
      "|  0  0  0  1 20 19  0  0  0 |\n",
      "|  0  0  0  0  0  0  1 20 19 |\n",
      "|  5 14 17  0  0  0  0  0  0 |\n",
      "|  0  0  0  5 14 17  0  0  0 |\n",
      "|  0  0  0  0  0  0  5 14 17 |\n"
     ]
    }
   ],
   "source": [
    "print(word_to_nums('AHWZTFLRZ'))\n",
    "print(word_to_nums('andbutfor'))\n",
    "print_matrix(get_key_from_blocks(c_blocks,pt_blocks)[0])\n",
    "c_blocks=['AHW','ZTF','LRZ']\n",
    "pt_blocks=['and','but','for']"
   ]
  },
  {
   "cell_type": "code",
   "execution_count": null,
   "id": "2e5ed288",
   "metadata": {},
   "outputs": [],
   "source": []
  }
 ],
 "metadata": {
  "kernelspec": {
   "display_name": "Python 3",
   "language": "python",
   "name": "python3"
  },
  "language_info": {
   "codemirror_mode": {
    "name": "ipython",
    "version": 3
   },
   "file_extension": ".py",
   "mimetype": "text/x-python",
   "name": "python",
   "nbconvert_exporter": "python",
   "pygments_lexer": "ipython3",
   "version": "3.8.8"
  }
 },
 "nbformat": 4,
 "nbformat_minor": 5
}
